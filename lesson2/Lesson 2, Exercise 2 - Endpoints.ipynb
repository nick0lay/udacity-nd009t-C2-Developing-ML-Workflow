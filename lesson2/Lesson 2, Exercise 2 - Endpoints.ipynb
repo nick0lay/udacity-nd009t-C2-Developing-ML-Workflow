{
 "cells": [
  {
   "cell_type": "markdown",
   "metadata": {},
   "source": [
    "# UDACITY SageMaker Essentials: Endpoint Exercise"
   ]
  },
  {
   "cell_type": "markdown",
   "metadata": {},
   "source": [
    "In the last exercise, you trained a BlazingText supervised sentiment analysis model. (Let's call this model HelloBlaze.) You've recently learned about how we can take a model we've previously trained and generate an endpoint that we can call to efficently evaluate new data. Here, we'll put what we've learned into practice. You will take HelloBlaze and use it to create an endpoint. Then, you'll evaluate some sample data on that model to see how well the model we've trained generalizes. (Sentiment analysis is a notoriously difficult problem, so we'll keep our expectations modest.)"
   ]
  },
  {
   "cell_type": "code",
   "execution_count": 2,
   "metadata": {},
   "outputs": [],
   "source": [
    "import os\n",
    "import boto3\n",
    "import json\n",
    "import sagemaker\n",
    "import zipfile\n",
    "\n",
    "import pandas as pd\n",
    "import numpy as np"
   ]
  },
  {
   "cell_type": "markdown",
   "metadata": {},
   "source": [
    "## Understanding Exercise: Preprocessing Data (again)"
   ]
  },
  {
   "cell_type": "markdown",
   "metadata": {},
   "source": [
    "Before we start, we're going to do preprocessing on a new set of data that we'll be evaluating on HelloBlaze. We won't keep track of the labels here, we're just seeing how we could potentially evaluate new data using an existing model. This code should be very familiar, and requires no modification. Something to note: it is getting tedious to have to manually process the data ourselves whenever we want to do something with our model. We are also doing this on our local machine. Can you think of potential limitations and dangers to the preprocessing setup we currently have? Keep this in mind when we move on to our lesson about batch-transform jobs.  "
   ]
  },
  {
   "cell_type": "code",
   "execution_count": 3,
   "metadata": {},
   "outputs": [
    {
     "name": "stdout",
     "output_type": "stream",
     "text": [
      "['__label__1 The product does exactly as it should and is quite affordable', '__label__1 I did not realized it was double screened until it arrived, so it was even better than I had expected', \"__label__1 As an added bonus, one of the screens carries a small hint of the smell of an old grape candy I used to buy, so for reminiscent's sake, I cannot stop putting the pop filter next to my nose and smelling it after recording\", '__label__1  :DIf you needed a pop filter, this will work just as well as the expensive ones, and it may even come with a pleasing aroma like mine did!Buy this product! :]', '__label__1 The primary job of this device is to block the breath that would otherwise produce a popping sound, while allowing your voice to pass through with no noticeable reduction of volume or high frequencies', '__label__1  The double cloth filter blocks the pops and lets the voice through with no coloration', '__label__1  The metal clamp mount attaches to the mike stand secure enough to keep it attached', '__label__1  The goose neck needs a little coaxing to stay where you put it', '__label__1 Monster makes a wide array of cables, including some that are very high end']\n"
     ]
    }
   ],
   "source": [
    "# Function below unzips the archive to the local directory. \n",
    "\n",
    "def unzip_data(input_data_path):\n",
    "    with zipfile.ZipFile(input_data_path, 'r') as input_data_zip:\n",
    "        input_data_zip.extractall('.')\n",
    "\n",
    "# Input data is a file with a single JSON object per line with the following format: \n",
    "# {\n",
    "#  \"reviewerID\": <string>,\n",
    "#  \"asin\": <string>,\n",
    "#  \"reviewerName\" <string>,\n",
    "#  \"helpful\": [\n",
    "#    <int>, (indicating number of \"helpful votes\")\n",
    "#    <int>  (indicating total number of votes)\n",
    "#  ],\n",
    "#  \"reviewText\": \"<string>\",\n",
    "#  \"overall\": <int>,\n",
    "#  \"summary\": \"<string>\",\n",
    "#  \"unixReviewTime\": <int>,\n",
    "#  \"reviewTime\": \"<string>\"\n",
    "# }\n",
    "# \n",
    "# We are specifically interested in the fields \"helpful\" and \"reviewText\"\n",
    "#\n",
    "\n",
    "def label_data(input_data):\n",
    "    labeled_data = []\n",
    "    HELPFUL_LABEL = \"__label__1\"\n",
    "    UNHELPFUL_LABEL = \"__label__2\"\n",
    "     \n",
    "    for l in open(input_data, 'r'):\n",
    "        l_object = json.loads(l)\n",
    "        helpful_votes = float(l_object['helpful'][0])\n",
    "        total_votes = l_object['helpful'][1]\n",
    "        reviewText = l_object['reviewText']\n",
    "        if total_votes != 0:\n",
    "            if helpful_votes / total_votes > .5:\n",
    "                labeled_data.append(\" \".join([HELPFUL_LABEL, reviewText]))\n",
    "            elif helpful_votes / total_votes < .5:\n",
    "                labeled_data.append(\" \".join([UNHELPFUL_LABEL, reviewText]))\n",
    "          \n",
    "    return labeled_data\n",
    "\n",
    "\n",
    "# Labeled data is a list of sentences, starting with the label defined in label_data. \n",
    "\n",
    "def split_sentences(labeled_data):\n",
    "    new_split_sentences = []\n",
    "    for d in labeled_data:\n",
    "        label = d.split()[0]\n",
    "        sentences = \" \".join(d.split()[1:]).split(\".\") # Initially split to separate label, then separate sentences\n",
    "        for s in sentences:\n",
    "            if s: # Make sure sentences isn't empty. Common w/ \"...\"\n",
    "                new_split_sentences.append(\" \".join([label, s]))\n",
    "    return new_split_sentences\n",
    "\n",
    "\n",
    "unzip_data('reviews_Musical_Instruments_5.json.zip')\n",
    "labeled_data = label_data('reviews_Musical_Instruments_5.json')\n",
    "new_split_sentence_data = split_sentences(labeled_data)\n",
    "\n",
    "print(new_split_sentence_data[0:9])"
   ]
  },
  {
   "cell_type": "code",
   "execution_count": 4,
   "metadata": {},
   "outputs": [
    {
     "name": "stdout",
     "output_type": "stream",
     "text": [
      "Training file written!\n",
      "Validation file written!\n",
      "Train file uploaded!\n",
      "Validation file uploaded!\n",
      "hello_blaze_train hello_blaze_validation\n",
      "s3://aws-ml-nanodegree-bucket/lesson2/ex2/hello_blaze_train\n",
      "s3://aws-ml-nanodegree-bucket/lesson2/ex2/hello_blaze_validation\n"
     ]
    }
   ],
   "source": [
    "import boto3\n",
    "from botocore.exceptions import ClientError\n",
    "# Note: This section implies that the bucket below has already been made and that you have access\n",
    "# to that bucket. You would need to change the bucket below to a bucket that you have write\n",
    "# premissions to. This will take time depending on your internet connection, the training file is ~ 40 mb\n",
    "\n",
    "BUCKET = \"aws-ml-nanodegree-bucket\"\n",
    "s3_prefix = \"lesson2/ex2\"\n",
    "\n",
    "\n",
    "def cycle_data(fp, data):\n",
    "    for d in data:\n",
    "        fp.write(d + \"\\n\")\n",
    "\n",
    "def write_trainfile(split_sentence_data):\n",
    "    train_path = \"hello_blaze_train\"\n",
    "    with open(train_path, 'w') as f:\n",
    "        cycle_data(f, split_sentence_data)\n",
    "    return train_path\n",
    "\n",
    "def write_validationfile(split_sentence_data):\n",
    "    validation_path = \"hello_blaze_validation\"\n",
    "    with open(validation_path, 'w') as f:\n",
    "        cycle_data(f, split_sentence_data)\n",
    "    return validation_path \n",
    "\n",
    "def upload_file_to_s3(file_name, s3_prefix):\n",
    "    object_name = os.path.join(s3_prefix, file_name)\n",
    "    s3_client = boto3.client('s3')\n",
    "    try:\n",
    "        response = s3_client.upload_file(file_name, BUCKET, object_name)\n",
    "    except ClientError as e:\n",
    "        logging.error(e)\n",
    "        return False\n",
    "    \n",
    "# Split the data\n",
    "split_data_trainlen = int(len(new_split_sentence_data) * .9)\n",
    "split_data_validationlen = int(len(new_split_sentence_data) * .1)\n",
    "\n",
    "# Todo: write the training file\n",
    "train_path = write_trainfile(new_split_sentence_data[:split_data_trainlen])\n",
    "print(\"Training file written!\")\n",
    "\n",
    "# Todo: write the validation file\n",
    "validation_path = write_validationfile(new_split_sentence_data[split_data_trainlen:])\n",
    "print(\"Validation file written!\")\n",
    "\n",
    "upload_file_to_s3(train_path, s3_prefix)\n",
    "training_s3_uri = \"s3://{}/{}/{}\".format(BUCKET, s3_prefix, train_path)\n",
    "print(\"Train file uploaded!\")\n",
    "upload_file_to_s3(validation_path, s3_prefix)\n",
    "validation_s3_uri = \"s3://{}/{}/{}\".format(BUCKET, s3_prefix, validation_path)\n",
    "print(\"Validation file uploaded!\")\n",
    "\n",
    "print(\" \".join([train_path, validation_path]))\n",
    "print(training_s3_uri)\n",
    "print(validation_s3_uri)"
   ]
  },
  {
   "cell_type": "markdown",
   "metadata": {},
   "source": [
    "## Exercise: Train Model"
   ]
  },
  {
   "cell_type": "code",
   "execution_count": 5,
   "metadata": {},
   "outputs": [
    {
     "name": "stderr",
     "output_type": "stream",
     "text": [
      "Defaulting to the only supported framework/algorithm version: 1. Ignoring framework/algorithm version: latest.\n"
     ]
    },
    {
     "name": "stdout",
     "output_type": "stream",
     "text": [
      "2022-01-16 15:42:14 Starting - Starting the training job...\n",
      "2022-01-16 15:42:37 Starting - Launching requested ML instancesProfilerReport-1642347734: InProgress\n",
      "...\n",
      "2022-01-16 15:43:07 Starting - Preparing the instances for training.........\n",
      "2022-01-16 15:44:38 Downloading - Downloading input data...\n",
      "2022-01-16 15:45:06 Training - Training image download completed. Training in progress.\u001b[34mArguments: train\u001b[0m\n",
      "\u001b[34m[01/16/2022 15:45:08 WARNING 140157245322880] Loggers have already been setup.\u001b[0m\n",
      "\u001b[34m[01/16/2022 15:45:08 WARNING 140157245322880] Loggers have already been setup.\u001b[0m\n",
      "\u001b[34m[01/16/2022 15:45:08 INFO 140157245322880] nvidia-smi took: 0.025205373764038086 secs to identify 0 gpus\u001b[0m\n",
      "\u001b[34m[01/16/2022 15:45:08 INFO 140157245322880] Running single machine CPU BlazingText training using supervised mode.\u001b[0m\n",
      "\u001b[34mNumber of CPU sockets found in instance is  1\u001b[0m\n",
      "\u001b[34m[01/16/2022 15:45:08 INFO 140157245322880] Processing /opt/ml/input/data/train/hello_blaze_train . File size: 2.321709632873535 MB\u001b[0m\n",
      "\u001b[34m[01/16/2022 15:45:08 INFO 140157245322880] Processing /opt/ml/input/data/validation/hello_blaze_validation . File size: 0.26017189025878906 MB\u001b[0m\n",
      "\u001b[34mRead 0M words\u001b[0m\n",
      "\u001b[34mNumber of words:  5419\u001b[0m\n",
      "\u001b[34m##### Alpha: 0.0423  Progress: 15.38%  Million Words/sec: 3.48 #####\u001b[0m\n",
      "\u001b[34m##### Alpha: 0.0335  Progress: 33.09%  Million Words/sec: 3.75 #####\u001b[0m\n",
      "\u001b[34m##### Alpha: 0.0253  Progress: 49.46%  Million Words/sec: 3.73 #####\u001b[0m\n",
      "\u001b[34m##### Alpha: 0.0164  Progress: 67.28%  Million Words/sec: 3.81 #####\u001b[0m\n",
      "\u001b[34m##### Alpha: 0.0079  Progress: 84.29%  Million Words/sec: 3.82 #####\u001b[0m\n",
      "\u001b[34m##### Alpha: -0.0000  Progress: 100.00%  Million Words/sec: 3.77 #####\u001b[0m\n",
      "\u001b[34m##### Alpha: 0.0000  Progress: 100.00%  Million Words/sec: 3.77 #####\u001b[0m\n",
      "\u001b[34mTraining finished.\u001b[0m\n",
      "\u001b[34mAverage throughput in Million words/sec: 3.77\u001b[0m\n",
      "\u001b[34mTotal training time in seconds: 0.60\u001b[0m\n",
      "\u001b[34m#train_accuracy: 0.8872\u001b[0m\n",
      "\u001b[34mNumber of train examples: 24319\u001b[0m\n",
      "\u001b[34m#validation_accuracy: 0.8794\u001b[0m\n",
      "\u001b[34mNumber of validation examples: 2703\u001b[0m\n",
      "\n",
      "2022-01-16 15:45:38 Uploading - Uploading generated training model\n",
      "2022-01-16 15:47:01 Completed - Training job completed\n",
      "Training seconds: 148\n",
      "Billable seconds: 148\n"
     ]
    },
    {
     "data": {
      "text/plain": [
       "'s3://aws-ml-nanodegree-bucket/lesson2/ex2/output/blazingtext-2022-01-16-15-42-14-294/output/model.tar.gz'"
      ]
     },
     "execution_count": 5,
     "metadata": {},
     "output_type": "execute_result"
    }
   ],
   "source": [
    "from sagemaker import get_execution_role\n",
    "from sagemaker import image_uris\n",
    "\n",
    "session = sagemaker.Session()\n",
    "\n",
    "role = get_execution_role()\n",
    "\n",
    "# We need to get the location of the container. \n",
    "container = image_uris.retrieve('blazingtext', session.boto_region_name, version='latest')\n",
    "\n",
    "# Bucket name for model output\n",
    "bucket = BUCKET # default session bucket can be used session.default_bucket()\n",
    "# We use this prefix to help us determine where the output will go. \n",
    "prefix = s3_prefix\n",
    "\n",
    "# Now that we know which container to use, we can construct the estimator object.\n",
    "bt = sagemaker.estimator.Estimator(container, # The image name of the training container\n",
    "                                    role,      # The IAM role to use (our current role in this case)\n",
    "                                    instance_count=1, # The number of instances to use for training\n",
    "                                    instance_type='ml.m5.large', # The type of instance to use for training\n",
    "                                    output_path='s3://{}/{}/output'.format(bucket, prefix),# Where to save the output (the model artifacts)\n",
    "                                    sagemaker_session=session, # The current SageMaker session\n",
    "                                    max_run=900) # Timeout in seconds for training\n",
    "\n",
    "# Set algoirthm hyperparameters, more information about hyperparameter algoirthm is here: \n",
    "# https://docs.aws.amazon.com/sagemaker/latest/dg/blazingtext_hyperparameters.html    \n",
    "    \n",
    "bt.set_hyperparameters(mode=\"supervised\")\n",
    "                        \n",
    "s3_input_train = sagemaker.inputs.TrainingInput(s3_data=training_s3_uri)\n",
    "s3_input_validation = sagemaker.inputs.TrainingInput(s3_data=validation_s3_uri)\n",
    "\n",
    "# The fit method launches the training job. \n",
    "\n",
    "bt.fit({'train': s3_input_train, 'validation': s3_input_validation})\n",
    "bt.model_data # The model location in S3. Only set if Estimator has been fit()"
   ]
  },
  {
   "cell_type": "markdown",
   "metadata": {},
   "source": [
    "## Exercise: Deploy Model"
   ]
  },
  {
   "cell_type": "markdown",
   "metadata": {},
   "source": [
    "Once you have your model, it's trivially easy to create an endpoint. All you need to do is initialize a \"model\" object, and call the deploy method. Fill in the method below with the proper addresses and an endpoint will be created, serving your model. Once this is done, confirm that the endpoint is live by consulting the SageMaker Console. You'll see this under \"Endpoints\" in the \"Inference\" menu on the left-hand side. If done correctly, this will take a while to get instantiated. \n",
    "\n",
    "You will need the following methods: \n",
    "\n",
    "* You'll need `image_uris.retrieve` method to determine the image uri to get a BlazingText docker image uri https://sagemaker.readthedocs.io/en/stable/api/utility/image_uris.html\n",
    "* You'll need a `model_data` to pass the S3 location of a SageMaker model data\n",
    "* You'll need to use the `Model` object https://sagemaker.readthedocs.io/en/stable/api/inference/model.html\n",
    "* You'll need to the get execution role. \n",
    "* You'll need to use the `deploy` method of the model object, using a single instance of \"ml.m5.large\""
   ]
  },
  {
   "cell_type": "code",
   "execution_count": 14,
   "metadata": {},
   "outputs": [
    {
     "name": "stderr",
     "output_type": "stream",
     "text": [
      "Defaulting to the only supported framework/algorithm version: 1. Ignoring framework/algorithm version: latest.\n"
     ]
    },
    {
     "name": "stdout",
     "output_type": "stream",
     "text": [
      "-----!None\n"
     ]
    }
   ],
   "source": [
    "from sagemaker import get_execution_role\n",
    "from sagemaker.model import Model\n",
    "from sagemaker import image_uris\n",
    "\n",
    "# get the execution role\n",
    "role = get_execution_role()\n",
    "# get the image using the \"blazingtext\" framework and your region\n",
    "image_uri = image_uris.retrieve(framework='blazingtext',region='eu-central-1', version='latest')\n",
    "# get the S3 location of a SageMaker model data\n",
    "model_data = bt.model_data\n",
    "# define a model object\n",
    "model = Model(image_uri=image_uri, model_data=model_data, role=role)\n",
    "# deploy the model using a single instance of \"ml.m5.large\" and optionaly return predictor\n",
    "predictor = model.deploy(initial_instance_count=1, instance_type=\"ml.m5.large\")"
   ]
  },
  {
   "cell_type": "code",
   "execution_count": 26,
   "metadata": {},
   "outputs": [
    {
     "name": "stdout",
     "output_type": "stream",
     "text": [
      "blazingtext-2022-01-16-17-02-08-376\n",
      "blazingtext-2022-01-16-17-02-08-813\n"
     ]
    }
   ],
   "source": [
    "# name of deployed model\n",
    "print(model.name)\n",
    "endpoint_name = model.endpoint_name\n",
    "print(endpoint_name)"
   ]
  },
  {
   "cell_type": "markdown",
   "metadata": {},
   "source": [
    "## Exercise: Evaluate Data"
   ]
  },
  {
   "cell_type": "markdown",
   "metadata": {},
   "source": [
    "Alright, we now have an easy way to evaluate our data! You will want to interact with the endpoint using the predictor interface: https://sagemaker.readthedocs.io/en/stable/api/inference/predictors.html\n",
    "\n",
    "Predictor is not the endpoint itself, but instead is an interface that we can use to easily interact with our deployed model. Your task is to take `new_split_sentence_data` and evaluate it using the predictor.  \n",
    "\n",
    "Note that the BlazingText supports \"application/json\" as the content-type for inference and the model expects a payload that contains a list of sentences with the key as “instances”.\n",
    "\n",
    "The method you'll need to call is highlighted below.\n",
    "\n",
    "Another recommendation: try evaluating a subset of the data before evaluating all of the data. This will make debugging significantly faster."
   ]
  },
  {
   "cell_type": "code",
   "execution_count": 28,
   "metadata": {},
   "outputs": [
    {
     "name": "stdout",
     "output_type": "stream",
     "text": [
      "<sagemaker.predictor.Predictor object at 0x7f7344bfe890>\n",
      "{\"instances\": [\"__label__1 The product does exactly as it should and is quite affordable\", \"__label__1 I did not realized it was double screened until it arrived, so it was even better than I had expected\", \"__label__1 As an added bonus, one of the screens carries a small hint of the smell of an old grape candy I used to buy, so for reminiscent's sake, I cannot stop putting the pop filter next to my nose and smelling it after recording\", \"__label__1  :DIf you needed a pop filter, this will work just as well as the expensive ones, and it may even come with a pleasing aroma like mine did!Buy this product! :]\", \"__label__1 The primary job of this device is to block the breath that would otherwise produce a popping sound, while allowing your voice to pass through with no noticeable reduction of volume or high frequencies\"]}\n",
      "b'[{\"label\": [\"__label__1\"], \"prob\": [0.936009407043457]}, {\"label\": [\"__label__1\"], \"prob\": [0.8287954926490784]}, {\"label\": [\"__label__1\"], \"prob\": [0.8888242840766907]}, {\"label\": [\"__label__1\"], \"prob\": [0.9015965461730957]}, {\"label\": [\"__label__1\"], \"prob\": [0.9217205047607422]}]'\n"
     ]
    }
   ],
   "source": [
    "from sagemaker.predictor import Predictor\n",
    "import json\n",
    "\n",
    "# For manual predictor creation\n",
    "if(predictor is None):\n",
    "    predictor = sagemaker.predictor.Predictor(\n",
    "        endpoint_name,\n",
    "        sagemaker_session=sagemaker.Session()\n",
    "    )\n",
    "\n",
    "print(predictor)\n",
    "\n",
    "# load the first five reviews from new_split_sentence_data\n",
    "example_sentences = new_split_sentence_data[0:5]\n",
    "\n",
    "payload = {\"instances\": example_sentences}\n",
    "\n",
    "print(json.dumps(payload))\n",
    "\n",
    "# make predictions using the \"predict\" method. Set initial_args to {'ContentType': 'application/json'}\n",
    "predictions = predictor.predict(json.dumps(payload), initial_args={'ContentType': 'application/json'})\n",
    "\n",
    "print(predictions)"
   ]
  },
  {
   "cell_type": "markdown",
   "metadata": {},
   "source": [
    "## Make sure you stop/delete the endpoint after completing the exercise to avoid cost."
   ]
  },
  {
   "cell_type": "code",
   "execution_count": 9,
   "metadata": {},
   "outputs": [],
   "source": [
    "predictor.delete_endpoint()"
   ]
  },
  {
   "cell_type": "code",
   "execution_count": null,
   "metadata": {},
   "outputs": [],
   "source": []
  }
 ],
 "metadata": {
  "instance_type": "ml.t3.medium",
  "kernelspec": {
   "display_name": "Python 3 (Data Science)",
   "language": "python",
   "name": "python3__SAGEMAKER_INTERNAL__arn:aws:sagemaker:eu-central-1:936697816551:image/datascience-1.0"
  },
  "language_info": {
   "codemirror_mode": {
    "name": "ipython",
    "version": 3
   },
   "file_extension": ".py",
   "mimetype": "text/x-python",
   "name": "python",
   "nbconvert_exporter": "python",
   "pygments_lexer": "ipython3",
   "version": "3.7.10"
  }
 },
 "nbformat": 4,
 "nbformat_minor": 5
}
